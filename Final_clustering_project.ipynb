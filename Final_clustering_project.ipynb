{
 "cells": [
  {
   "cell_type": "markdown",
   "metadata": {},
   "source": [
    "## Importing necessary packages"
   ]
  },
  {
   "cell_type": "code",
<<<<<<< HEAD
   "execution_count": 7,
=======
   "execution_count": 1,
>>>>>>> d16f79892ca27cb550458b422e17fc1316673eda
   "metadata": {
    "ExecuteTime": {
     "end_time": "2021-04-06T20:00:11.878069Z",
     "start_time": "2021-04-06T20:00:11.862537Z"
    }
   },
   "outputs": [],
   "source": [
    "import warnings\n",
    "warnings.filterwarnings(\"ignore\")\n",
    "\n",
    "import pandas as pd\n",
    "import numpy as np\n",
    "import matplotlib.pyplot as plt\n",
    "import seaborn as sns\n",
    "from sklearn.cluster import KMeans\n",
    "\n",
    "from scipy import stats\n",
    "\n",
    "from jupyterthemes import jtplot\n",
    "jtplot.style(grid=False)\n",
    "\n",
    "from wrangle_zillow import wrangle_zillow, scale_data, split_zillow\n",
    "from FE_cluster import select_kbest, rfe\n",
    "from sklearn.metrics import mean_squared_error\n",
    "from IPython import display"
   ]
  },
  {
   "cell_type": "markdown",
   "metadata": {},
   "source": [
    "# Analyzing and predicting logerror\n",
    "- Project examining drivers of Zestimate logerror using the Zillow database from Codeup\n",
    "- Goals are to find drivers of logerror, cluster the data into relevant groups, and to predict logerror using a machine learning model for each cluste"
   ]
  },
  {
   "cell_type": "markdown",
   "metadata": {},
   "source": [
    "## Key Findings:\n",
    "- logerror ranges from -4.7 to 3.4\n",
    "- No linear correlation to logerror\n",
    "- Region based clusters seems most logical\n",
    "- Clusters made were not reliable predictors of the target variable, logerror"
   ]
  },
  {
   "cell_type": "markdown",
   "metadata": {},
   "source": [
    "## Data acquisition and prep\n",
    "- Data pulled from codeup zillow database\n",
    "- Data is subset from \"single unit\" properties sold in 2017 from LA, Ventura, and Orange counties in Southern California\n",
    "- Columns/Rows with > 70% nulls and duplicates were dropped\n",
    "- nulls in buildingqualitytypeid and lotsizesquarefeet were filled with median values\n",
    "- Zipcodes were erroneous so column was dropped\n",
    "- County column created using fips\n",
    "- Outliers based on tax_value were handled using 1.5x IQR upper and lower bound\n",
    "- Home age(age_in_years) and Absolute logerror(logerror_absolute) columns created for use in exploration"
   ]
  },
  {
   "cell_type": "code",
   "execution_count": 8,
   "metadata": {
    "ExecuteTime": {
     "end_time": "2021-04-06T20:00:33.856476Z",
     "start_time": "2021-04-06T20:00:16.666760Z"
    }
   },
   "outputs": [
    {
     "name": "stdout",
     "output_type": "stream",
     "text": [
      "<class 'pandas.core.frame.DataFrame'>\n",
      "Int64Index: 66858 entries, 0 to 77379\n",
      "Data columns (total 30 columns):\n",
      " #   Column                      Non-Null Count  Dtype  \n",
      "---  ------                      --------------  -----  \n",
      " 0   parcelid                    66858 non-null  int64  \n",
      " 1   logerror                    66858 non-null  float64\n",
      " 2   transactiondate             66858 non-null  object \n",
      " 3   bathrooms                   66858 non-null  float64\n",
      " 4   bedrooms                    66858 non-null  float64\n",
      " 5   buildingqualitytypeid       66858 non-null  float64\n",
      " 6   square_feet                 66858 non-null  float64\n",
      " 7   fips                        66858 non-null  float64\n",
      " 8   latitude                    66858 non-null  float64\n",
      " 9   longitude                   66858 non-null  float64\n",
      " 10  lotsizesquarefeet           66858 non-null  float64\n",
      " 11  rawcensustractandblock      66858 non-null  float64\n",
      " 12  regionidcity                66858 non-null  float64\n",
      " 13  regionidcounty              66858 non-null  float64\n",
      " 14  regionidzip                 66858 non-null  float64\n",
      " 15  roomcnt                     66858 non-null  float64\n",
      " 16  unitcnt                     66858 non-null  float64\n",
      " 17  yearbuilt                   66858 non-null  float64\n",
      " 18  structuretaxvaluedollarcnt  66858 non-null  float64\n",
      " 19  tax_value                   66858 non-null  float64\n",
      " 20  assessmentyear              66858 non-null  float64\n",
      " 21  landtaxvaluedollarcnt       66858 non-null  float64\n",
      " 22  taxes                       66858 non-null  float64\n",
      " 23  heatingorsystemdesc         66858 non-null  object \n",
      " 24  county                      66858 non-null  object \n",
      " 25  logerror_absolute           66858 non-null  float64\n",
      " 26  age_in_years                66858 non-null  float64\n",
      " 27  Bathrooms_cat               66858 non-null  object \n",
      " 28  Bedrooms_cat                66858 non-null  object \n",
      " 29  tax_rate                    66858 non-null  float64\n",
      "dtypes: float64(24), int64(1), object(5)\n",
      "memory usage: 15.8+ MB\n"
     ]
    }
   ],
   "source": [
    "# Acquiring data from codeup zillow database\n",
    "\n",
    "df = wrangle_zillow()\n",
    "df.info()"
   ]
  },
  {
   "cell_type": "markdown",
   "metadata": {},
   "source": [
    "## 1. What is the distribution of each variable?"
   ]
  },
  {
   "cell_type": "code",
   "execution_count": 3,
   "metadata": {
    "ExecuteTime": {
     "end_time": "2021-04-06T17:58:51.483649Z",
     "start_time": "2021-04-06T17:58:48.009546Z"
    },
    "scrolled": true
   },
   "outputs": [
    {
     "data": {
      "text/plain": [
       "array([[<AxesSubplot:title={'center':'parcelid'}>,\n",
       "        <AxesSubplot:title={'center':'logerror'}>,\n",
       "        <AxesSubplot:title={'center':'bathrooms'}>,\n",
       "        <AxesSubplot:title={'center':'bedrooms'}>,\n",
       "        <AxesSubplot:title={'center':'buildingqualitytypeid'}>],\n",
       "       [<AxesSubplot:title={'center':'square_feet'}>,\n",
       "        <AxesSubplot:title={'center':'fips'}>,\n",
       "        <AxesSubplot:title={'center':'latitude'}>,\n",
       "        <AxesSubplot:title={'center':'longitude'}>,\n",
       "        <AxesSubplot:title={'center':'lotsizesquarefeet'}>],\n",
       "       [<AxesSubplot:title={'center':'rawcensustractandblock'}>,\n",
       "        <AxesSubplot:title={'center':'regionidcity'}>,\n",
       "        <AxesSubplot:title={'center':'regionidcounty'}>,\n",
       "        <AxesSubplot:title={'center':'regionidzip'}>,\n",
       "        <AxesSubplot:title={'center':'roomcnt'}>],\n",
       "       [<AxesSubplot:title={'center':'unitcnt'}>,\n",
       "        <AxesSubplot:title={'center':'yearbuilt'}>,\n",
       "        <AxesSubplot:title={'center':'structuretaxvaluedollarcnt'}>,\n",
       "        <AxesSubplot:title={'center':'tax_value'}>,\n",
       "        <AxesSubplot:title={'center':'assessmentyear'}>],\n",
       "       [<AxesSubplot:title={'center':'landtaxvaluedollarcnt'}>,\n",
       "        <AxesSubplot:title={'center':'taxes'}>,\n",
       "        <AxesSubplot:title={'center':'logerror_absolute'}>,\n",
       "        <AxesSubplot:title={'center':'age_in_years'}>,\n",
       "        <AxesSubplot:title={'center':'tax_rate'}>]], dtype=object)"
      ]
     },
     "execution_count": 3,
     "metadata": {},
     "output_type": "execute_result"
    },
    {
     "data": {
      "image/png": "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\n",
      "text/plain": [
       "<Figure size 1440x1440 with 25 Axes>"
      ]
     },
     "metadata": {
      "needs_background": "light"
     },
     "output_type": "display_data"
    }
   ],
   "source": [
    "df.hist(figsize=[20,20])"
   ]
  },
  {
   "cell_type": "code",
   "execution_count": 4,
   "metadata": {
    "ExecuteTime": {
     "end_time": "2021-04-06T17:58:53.059077Z",
     "start_time": "2021-04-06T17:58:51.489675Z"
    }
   },
   "outputs": [
    {
     "ename": "NameError",
     "evalue": "name 'jtplot' is not defined",
     "output_type": "error",
     "traceback": [
      "\u001b[0;31m---------------------------------------------------------------------------\u001b[0m",
      "\u001b[0;31mNameError\u001b[0m                                 Traceback (most recent call last)",
      "\u001b[0;32m<ipython-input-4-5b152f8277ea>\u001b[0m in \u001b[0;36m<module>\u001b[0;34m\u001b[0m\n\u001b[1;32m      1\u001b[0m \u001b[0;31m# Displaying a distribution of logerror on the log scale\u001b[0m\u001b[0;34m\u001b[0m\u001b[0;34m\u001b[0m\u001b[0;34m\u001b[0m\u001b[0m\n\u001b[1;32m      2\u001b[0m \u001b[0;34m\u001b[0m\u001b[0m\n\u001b[0;32m----> 3\u001b[0;31m \u001b[0mjtplot\u001b[0m\u001b[0;34m.\u001b[0m\u001b[0mstyle\u001b[0m\u001b[0;34m(\u001b[0m\u001b[0mtheme\u001b[0m\u001b[0;34m=\u001b[0m\u001b[0;34m'onedork'\u001b[0m\u001b[0;34m,\u001b[0m\u001b[0mgrid\u001b[0m\u001b[0;34m=\u001b[0m\u001b[0;32mFalse\u001b[0m\u001b[0;34m)\u001b[0m\u001b[0;34m\u001b[0m\u001b[0;34m\u001b[0m\u001b[0m\n\u001b[0m\u001b[1;32m      4\u001b[0m \u001b[0msns\u001b[0m\u001b[0;34m.\u001b[0m\u001b[0mhistplot\u001b[0m\u001b[0;34m(\u001b[0m\u001b[0mdf\u001b[0m\u001b[0;34m[\u001b[0m\u001b[0;34m'logerror_absolute'\u001b[0m\u001b[0;34m]\u001b[0m\u001b[0;34m,\u001b[0m \u001b[0mlog_scale\u001b[0m \u001b[0;34m=\u001b[0m \u001b[0;32mTrue\u001b[0m\u001b[0;34m)\u001b[0m\u001b[0;34m\u001b[0m\u001b[0;34m\u001b[0m\u001b[0m\n",
      "\u001b[0;31mNameError\u001b[0m: name 'jtplot' is not defined"
     ]
    }
   ],
   "source": [
    "# Displaying a distribution of logerror on the log scale\n",
    "\n",
    "jtplot.style(theme='onedork',grid=False)\n",
    "sns.histplot(df['logerror_absolute'], log_scale = True)"
   ]
  },
  {
   "cell_type": "code",
   "execution_count": null,
   "metadata": {
    "ExecuteTime": {
     "end_time": "2021-04-06T18:10:38.029845Z",
     "start_time": "2021-04-06T18:10:38.003897Z"
    }
   },
   "outputs": [],
   "source": [
    "df.logerror.describe()"
   ]
  },
  {
   "cell_type": "code",
   "execution_count": null,
   "metadata": {
    "ExecuteTime": {
     "end_time": "2021-04-06T18:06:31.164054Z",
     "start_time": "2021-04-06T18:06:31.016254Z"
    }
   },
   "outputs": [],
   "source": [
    "# Distribution of properties from each county and percent distribution\n",
    "\n",
    "jtplot.style(grid=False)\n",
    "df.county.value_counts().plot.bar()\n",
    "plt.show()\n",
    "df.county.value_counts(normalize=True)"
   ]
  },
  {
   "cell_type": "code",
   "execution_count": null,
   "metadata": {
    "ExecuteTime": {
     "end_time": "2021-04-06T17:58:53.282608Z",
     "start_time": "2021-04-06T17:58:53.261961Z"
    }
   },
   "outputs": [],
   "source": [
    "# Breakdown of data in year built column\n",
    "\n",
    "df.yearbuilt.describe()"
   ]
  },
  {
   "cell_type": "code",
   "execution_count": null,
   "metadata": {
    "ExecuteTime": {
     "end_time": "2021-04-06T17:58:53.304362Z",
     "start_time": "2021-04-06T17:58:53.288930Z"
    }
   },
   "outputs": [],
   "source": [
    "# Breakdown of data in age column\n",
    "\n",
    "df.age_in_years.describe()"
   ]
  },
  {
   "cell_type": "code",
   "execution_count": null,
   "metadata": {
    "ExecuteTime": {
     "end_time": "2021-04-06T17:58:53.355110Z",
     "start_time": "2021-04-06T17:58:53.309546Z"
    }
   },
   "outputs": [],
   "source": [
    "# New column for encoding houses built after 1970(median)\n",
    "\n",
    "df['built_after_1970'] = df.yearbuilt.apply(lambda x: 1 if x >= 1970 else 0)"
   ]
  },
  {
   "cell_type": "code",
   "execution_count": null,
   "metadata": {
    "ExecuteTime": {
     "end_time": "2021-04-06T17:58:53.381684Z",
     "start_time": "2021-04-06T17:58:53.359427Z"
    }
   },
   "outputs": [],
   "source": [
    "# Breakdown of absolute logerror\n",
    "\n",
    "df.logerror_absolute.describe()"
   ]
  },
  {
   "cell_type": "code",
   "execution_count": null,
   "metadata": {
    "ExecuteTime": {
     "end_time": "2021-04-06T17:58:53.836941Z",
     "start_time": "2021-04-06T17:58:53.387497Z"
    }
   },
   "outputs": [],
   "source": [
    "# Creating transaction month column\n",
    "\n",
    "df['transactiondate'] = df.transactiondate.astype('str')\n",
    "df['transaction_month'] = df.transactiondate.str.split('-',expand=True)[1]\n",
    "df.transaction_month.value_counts()"
   ]
  },
  {
   "cell_type": "markdown",
   "metadata": {},
   "source": [
    "## Univariate takeaways:\n",
    "- median yearbuilt is 1970 and median home age is 51\n",
    "- median absolute log_error is 0.03, max is ~4.7\n",
    "- 64% of properties are in LA county"
   ]
  },
  {
   "cell_type": "code",
   "execution_count": null,
   "metadata": {
    "ExecuteTime": {
     "end_time": "2021-04-06T17:58:54.185801Z",
     "start_time": "2021-04-06T17:58:53.842138Z"
    }
   },
   "outputs": [],
   "source": [
    "# Splitting data\n",
    "\n",
    "train, validate, test = split_zillow(df, stratify_by='county')"
   ]
  },
  {
   "cell_type": "code",
   "execution_count": null,
   "metadata": {
    "ExecuteTime": {
     "end_time": "2021-04-06T17:58:54.197691Z",
     "start_time": "2021-04-06T17:58:54.188665Z"
    }
   },
   "outputs": [],
   "source": [
    "# Getting size of each split\n",
    "\n",
    "train.shape, validate.shape, test.shape"
   ]
  },
  {
   "cell_type": "markdown",
   "metadata": {},
   "source": [
    "## 2. How does each variable compare to absolute logerror?"
   ]
  },
  {
   "cell_type": "code",
   "execution_count": null,
   "metadata": {
    "ExecuteTime": {
     "end_time": "2021-04-06T18:05:46.692698Z",
     "start_time": "2021-04-06T18:05:46.116947Z"
    }
   },
   "outputs": [],
   "source": [
    "# Correlation heatmap\n",
    "\n",
    "corr = pd.DataFrame(train.corr()['logerror_absolute'].sort_values(ascending = False)).rename(columns = {'logerror_absolute':'correlation'})\n",
    "jtplot.style()\n",
    "plt.figure(figsize = (4,10))\n",
    "sns.heatmap(corr, annot = True, fmt = '.2f', vmin = -0.05, vmax = 0.05, cmap = 'magma')\n",
    "plt.title('Correlation heatmap', fontsize = 15)\n",
    "plt.show()"
   ]
  },
  {
   "cell_type": "code",
   "execution_count": null,
   "metadata": {
    "ExecuteTime": {
     "end_time": "2021-04-06T17:58:55.690155Z",
     "start_time": "2021-04-06T17:58:54.933546Z"
    }
   },
   "outputs": [],
   "source": [
    "# Displaying the relationship between county and logerror\n",
    "# Orange county has a significantly higher avereage error than the other counties, although this is average\n",
    "# including over/under estimates. If we want an idea of total deviation from the true value of the property\n",
    "# we have to use an absolute error to measure deviations from the true value.\n",
    "\n",
    "jtplot.style(grid=False)\n",
    "sns.barplot(x = train['county'], y = train['logerror'], palette='cool')"
   ]
  },
  {
   "cell_type": "code",
   "execution_count": null,
   "metadata": {
    "ExecuteTime": {
     "end_time": "2021-04-06T17:58:56.457149Z",
     "start_time": "2021-04-06T17:58:55.695405Z"
    }
   },
   "outputs": [],
   "source": [
    "# Displaying the relationship between county and their relative absolute logerror\n",
    "# Los Angeles seems to have a higher average absolute logerror. So estimates are least reliable when coming\n",
    "# from LA. While this is useful information for reliability of estimations, as a predictor it doesn't provide\n",
    "# much insight.\n",
    "\n",
    "sns.barplot(x = train['county'], y = train['logerror_absolute'],palette='inferno')"
   ]
  },
  {
   "cell_type": "code",
   "execution_count": null,
   "metadata": {
    "ExecuteTime": {
     "end_time": "2021-04-06T17:58:57.309411Z",
     "start_time": "2021-04-06T17:58:56.463297Z"
    }
   },
   "outputs": [],
   "source": [
    "# Distribution of logerror by county\n",
    "\n",
    "sns.catplot(data=train, x='county',y='logerror', hue='county', palette='inferno')"
   ]
  },
  {
   "cell_type": "code",
   "execution_count": null,
   "metadata": {
    "ExecuteTime": {
     "end_time": "2021-04-06T17:58:58.090554Z",
     "start_time": "2021-04-06T17:58:57.315297Z"
    }
   },
   "outputs": [],
   "source": [
    "# Distribution of logerror between properties built after 1970 and those before\n",
    "\n",
    "sns.catplot(data=train, x='built_after_1970',y='logerror', hue='built_after_1970', palette='inferno')"
   ]
  },
  {
   "cell_type": "code",
   "execution_count": null,
   "metadata": {
    "ExecuteTime": {
     "end_time": "2021-04-06T17:58:59.484543Z",
     "start_time": "2021-04-06T17:58:58.094755Z"
    }
   },
   "outputs": [],
   "source": [
    "# Displaying relationship between square footage and logerror\n",
    "# Note as square footage increases total error seems to go down\n",
    "\n",
    "sns.scatterplot(data=train, x='square_feet',y='logerror', hue='county', palette='magma')"
   ]
  },
  {
   "cell_type": "code",
   "execution_count": null,
   "metadata": {
    "ExecuteTime": {
     "end_time": "2021-04-06T17:59:01.188100Z",
     "start_time": "2021-04-06T17:58:59.490334Z"
    }
   },
   "outputs": [],
   "source": [
    "# Displaying relationship between square footage and logerror\n",
    "# Doesn't seem to be much of a relationship here\n",
    "\n",
    "sns.scatterplot(data=train, x='tax_value',y='logerror', hue='county', palette='inferno')"
   ]
  },
  {
   "cell_type": "code",
   "execution_count": null,
   "metadata": {
    "ExecuteTime": {
     "end_time": "2021-04-06T17:59:02.202767Z",
     "start_time": "2021-04-06T17:59:01.193351Z"
    }
   },
   "outputs": [],
   "source": [
    "# Plotting absolute logerrors by month of transaction\n",
    "\n",
    "plt.figure(figsize=[10,6])\n",
    "sns.barplot(data=train, x='transaction_month',y='logerror_absolute', palette='inferno',order=['01','02','03','04','05','06','07','08','09'])"
   ]
  },
  {
   "cell_type": "code",
   "execution_count": null,
   "metadata": {
    "ExecuteTime": {
     "end_time": "2021-04-06T17:59:03.218078Z",
     "start_time": "2021-04-06T17:59:02.205652Z"
    }
   },
   "outputs": [],
   "source": [
    "# Displaying relationship between building quality type and logerror\n",
    "\n",
    "plt.figure(figsize=[10,6])\n",
    "sns.barplot(x = train['buildingqualitytypeid'], y = train['logerror'],palette='tab10')"
   ]
  },
  {
   "cell_type": "markdown",
   "metadata": {},
   "source": [
    "## Bivariate/Multivariate takeaways\n",
    "- Not much correlation to absolute logerror. Best was home age with 0.11 r value\n",
    "- LA county has a wider range of logerror including a few outliers with less than -3\n",
    "- Minus a few outliers, homes built after 1970 generally have logerrors with a tighter grouping to 0\n",
    "- Mean absolute logerror tends to decrease from March to July, August and September transactions had the highest absolute logerrors\n",
    "- As square footage increases the estimates seem to get more accurate"
   ]
  },
  {
   "cell_type": "markdown",
   "metadata": {},
   "source": [
    "## 3. Is the mean absolute log error significantly different between LA and Orange+Ventura county?"
   ]
  },
  {
   "cell_type": "code",
   "execution_count": null,
   "metadata": {
    "ExecuteTime": {
     "end_time": "2021-04-06T17:59:03.741627Z",
     "start_time": "2021-04-06T17:59:03.229123Z"
    }
   },
   "outputs": [],
   "source": [
    "plt.figure(figsize=[5,5])\n",
    "plt.xlim(-.1,1)\n",
    "sns.distplot(train.logerror_absolute,color='darkorange')"
   ]
  },
  {
   "cell_type": "code",
   "execution_count": null,
   "metadata": {
    "ExecuteTime": {
     "end_time": "2021-04-06T17:59:03.792247Z",
     "start_time": "2021-04-06T17:59:03.749554Z"
    }
   },
   "outputs": [],
   "source": [
    "# Separating groups of LA and not LA and their respective absolute logerrors\n",
    "\n",
    "LA_abslogerror = train[train.county == 'Los_Angeles'].logerror_absolute\n",
    "Ventura_Orange_abslogerror = train[train.county != 'Los_Angeles'].logerror_absolute\n",
    "\n",
    "null_hypothesis = \"The mean absolute log errors are the same between LA and other counties\"\n",
    "alternative_hypothesis = \"The mean absolute log errors are significantly different between LA and other counties\"\n",
    "confidence_level = .95\n",
    "a = 1 - confidence_level\n",
    "\n",
    "t, p = stats.ttest_ind(LA_abslogerror, Ventura_Orange_abslogerror)\n",
    "t, p"
   ]
  },
  {
   "cell_type": "code",
   "execution_count": null,
   "metadata": {
    "ExecuteTime": {
     "end_time": "2021-04-06T17:59:03.801188Z",
     "start_time": "2021-04-06T17:59:03.795318Z"
    }
   },
   "outputs": [],
   "source": [
    "if p < a:\n",
    "    print('We reject the null')\n",
    "    print('The mean absolute log error for LA county is significantly different than Ventura + Orange counties')\n",
    "else:\n",
    "    print(\"we fail to reject the null\")"
   ]
  },
  {
   "cell_type": "code",
   "execution_count": null,
   "metadata": {
    "ExecuteTime": {
     "end_time": "2021-04-06T17:59:03.814945Z",
     "start_time": "2021-04-06T17:59:03.804602Z"
    }
   },
   "outputs": [],
   "source": [
    "LA_abslogerror.mean(), Ventura_Orange_abslogerror.mean()"
   ]
  },
  {
   "cell_type": "markdown",
   "metadata": {},
   "source": [
    "## 4. Is the mean absolute log error significantly different between homes built pre and post 1970?"
   ]
  },
  {
   "cell_type": "code",
   "execution_count": null,
   "metadata": {
    "ExecuteTime": {
     "end_time": "2021-04-06T17:59:04.365707Z",
     "start_time": "2021-04-06T17:59:03.818819Z"
    }
   },
   "outputs": [],
   "source": [
    "plt.figure(figsize=[5,5])\n",
    "plt.xlim(-.1,1)\n",
    "sns.distplot(train.logerror_absolute,color='darkorange')"
   ]
  },
  {
   "cell_type": "code",
   "execution_count": null,
   "metadata": {
    "ExecuteTime": {
     "end_time": "2021-04-06T17:59:04.855510Z",
     "start_time": "2021-04-06T17:59:04.370607Z"
    }
   },
   "outputs": [],
   "source": [
    "# Distribution of the count of properties built each year\n",
    "\n",
    "plt.figure(figsize=[10,10])\n",
    "sns.histplot(train.yearbuilt,color='teal')"
   ]
  },
  {
   "cell_type": "code",
   "execution_count": null,
   "metadata": {
    "ExecuteTime": {
     "end_time": "2021-04-06T17:59:06.474230Z",
     "start_time": "2021-04-06T17:59:04.859615Z"
    }
   },
   "outputs": [],
   "source": [
    "# Scattermap to show properties by county\n",
    "\n",
    "plt.figure(figsize=[10,10])\n",
    "sns.scatterplot(y=train.latitude , x=train.longitude, hue=train.county, palette='magma')"
   ]
  },
  {
   "cell_type": "code",
   "execution_count": null,
   "metadata": {
    "ExecuteTime": {
     "end_time": "2021-04-06T17:59:08.112029Z",
     "start_time": "2021-04-06T17:59:06.476521Z"
    }
   },
   "outputs": [],
   "source": [
    "# Scattermap to show where properties are located and if they were built before or after 1970\n",
    "\n",
    "plt.figure(figsize=[10,10])\n",
    "sns.scatterplot(y=train.latitude , x=train.longitude, hue=train.built_after_1970, palette='tab10')"
   ]
  },
  {
   "cell_type": "code",
   "execution_count": null,
   "metadata": {
    "ExecuteTime": {
     "end_time": "2021-04-06T17:59:09.688666Z",
     "start_time": "2021-04-06T17:59:08.116715Z"
    }
   },
   "outputs": [],
   "source": [
    "# Scatterplot of square footage and logerror colored by whether the property was built before or after 1970\n",
    "\n",
    "plt.figure(figsize=[10,10])\n",
    "sns.scatterplot(data=train, x='square_feet',y='logerror', hue='built_after_1970', palette='tab10')"
   ]
  },
  {
   "cell_type": "code",
   "execution_count": null,
   "metadata": {
    "ExecuteTime": {
     "end_time": "2021-04-06T17:59:09.726940Z",
     "start_time": "2021-04-06T17:59:09.694284Z"
    }
   },
   "outputs": [],
   "source": [
    "# Splitting properties by whether they were built before or after 1970 and their respective absolute logerrors\n",
    "\n",
    "post_1970_abslogerror = train[train.built_after_1970 == 1].logerror_absolute\n",
    "pre_1970_abslogerror = train[train.built_after_1970 == 0].logerror_absolute\n",
    "\n",
    "null_hypothesis = \"The mean absolute log errors are the same between pre and post 1970\"\n",
    "alternative_hypothesis = \"The mean absolute log errors are significantly different between pre and post 1970\"\n",
    "confidence_level = .95\n",
    "a = 1 - confidence_level\n",
    "\n",
    "t, p = stats.ttest_ind(pre_1970_abslogerror, post_1970_abslogerror)\n",
    "t, p"
   ]
  },
  {
   "cell_type": "code",
   "execution_count": null,
   "metadata": {
    "ExecuteTime": {
     "end_time": "2021-04-06T17:59:09.737206Z",
     "start_time": "2021-04-06T17:59:09.731728Z"
    }
   },
   "outputs": [],
   "source": [
    "if p < a:\n",
    "    print('We reject the null')\n",
    "    print('We move forward with the alternative hypothesis acknowledging that the mean absolute log error is significantly different between homes built pre and post 1970')\n",
    "else:\n",
    "    print(\"we fail to reject the null\")"
   ]
  },
  {
   "cell_type": "code",
   "execution_count": null,
   "metadata": {
    "ExecuteTime": {
     "end_time": "2021-04-06T17:59:09.754602Z",
     "start_time": "2021-04-06T17:59:09.742172Z"
    }
   },
   "outputs": [],
   "source": [
    "pre_1970_abslogerror.mean(), post_1970_abslogerror.mean()"
   ]
  },
  {
   "cell_type": "markdown",
   "metadata": {},
   "source": [
    "## 5. Is the mean absolute log error significantly different between homes sold March-July vs other months?"
   ]
  },
  {
   "cell_type": "code",
   "execution_count": null,
   "metadata": {
    "ExecuteTime": {
     "end_time": "2021-04-06T17:59:11.171853Z",
     "start_time": "2021-04-06T17:59:09.760427Z"
    }
   },
   "outputs": [],
   "source": [
    "# Plotting average absolute logerror by month\n",
    "\n",
    "plt.figure(figsize=[10,6])\n",
    "sns.barplot(data=train, x='transaction_month',y='logerror_absolute', palette='inferno',order=['01','02','03','04','05','06','07','08','09'])"
   ]
  },
  {
   "cell_type": "code",
   "execution_count": null,
   "metadata": {
    "ExecuteTime": {
     "end_time": "2021-04-06T17:59:11.317754Z",
     "start_time": "2021-04-06T17:59:11.175093Z"
    }
   },
   "outputs": [],
   "source": [
    "#encoding 1 if county is LA\n",
    "train['is_LA'] = train.county.apply(lambda x: 1 if x == 'Los_Angeles' else 0)\n",
    "validate['is_LA'] = validate.county.apply(lambda x: 1 if x == 'Los_Angeles' else 0)\n",
    "test['is_LA'] = test.county.apply(lambda x: 1 if x == 'Los_Angeles' else 0)\n",
    "\n",
    "#encoding 1 if March through July\n",
    "midmonths = ['03','04','05','06','07']\n",
    "train['is_midmonths'] = train.transaction_month.apply(lambda x: 1 if x in midmonths else 0)\n",
    "validate['is_midmonths'] = validate.transaction_month.apply(lambda x: 1 if x in midmonths else 0)\n",
    "test['is_midmonths'] = test.transaction_month.apply(lambda x: 1 if x in midmonths else 0)"
   ]
  },
  {
   "cell_type": "code",
   "execution_count": null,
   "metadata": {
    "ExecuteTime": {
     "end_time": "2021-04-06T17:59:11.365826Z",
     "start_time": "2021-04-06T17:59:11.321193Z"
    }
   },
   "outputs": [],
   "source": [
    "midmonth_abslogerror = train[train.is_midmonths == 1].logerror_absolute\n",
    "othermonth_abslogerror = train[train.is_midmonths == 0].logerror_absolute\n",
    "\n",
    "null_hypothesis = \"The mean absolute log errors are the same between homes sold from March-July and other months\"\n",
    "alternative_hypothesis = \"The mean absolute log errors are significantly different between homes sold from March-July and other months\"\n",
    "confidence_level = .95\n",
    "a = 1 - confidence_level\n",
    "\n",
    "t, p = stats.ttest_ind(midmonth_abslogerror, othermonth_abslogerror)\n",
    "t, p"
   ]
  },
  {
   "cell_type": "code",
   "execution_count": null,
   "metadata": {
    "ExecuteTime": {
     "end_time": "2021-04-06T17:59:11.524338Z",
     "start_time": "2021-04-06T17:59:11.508771Z"
    }
   },
   "outputs": [],
   "source": [
    "if p < a:\n",
    "    print('We reject the null')\n",
    "    print('We move forward with the alternative hypothesis acknowledging that the mean absolute log error is significantly different between homes sold from March-July and other months')\n",
    "else:\n",
    "    print(\"we fail to reject the null\")"
   ]
  },
  {
   "cell_type": "code",
   "execution_count": null,
   "metadata": {
    "ExecuteTime": {
     "end_time": "2021-04-06T17:59:11.556588Z",
     "start_time": "2021-04-06T17:59:11.535817Z"
    }
   },
   "outputs": [],
   "source": [
    "midmonth_abslogerror.mean(), othermonth_abslogerror.mean()"
   ]
  },
  {
   "cell_type": "markdown",
   "metadata": {},
   "source": [
    "# Sam's statistical tests:\n",
    "-------------------------------------"
   ]
  },
  {
   "cell_type": "markdown",
   "metadata": {},
   "source": [
    "## Test 1\n",
    "Is there a significant difference in the average error of Orange County and the total average error? (alpha = .05)"
   ]
  },
  {
   "cell_type": "code",
   "execution_count": null,
   "metadata": {
    "ExecuteTime": {
     "end_time": "2021-04-06T17:59:11.625802Z",
     "start_time": "2021-04-06T17:59:11.566399Z"
    }
   },
   "outputs": [],
   "source": [
    "# Getting Orange county properties and comparing that to total average\n",
    "\n",
    "x1 = train[train['county'] == 'Orange']\n",
    "x1 = x1['logerror']\n",
    "x2 = train.logerror.mean()\n",
    "t, p = stats.ttest_1samp(x1, x2)\n",
    "\n",
    "print(f't = {t:.3f}')\n",
    "print(f'p = {p:.3f}')"
   ]
  },
  {
   "cell_type": "markdown",
   "metadata": {
    "ExecuteTime": {
     "end_time": "2021-04-06T15:21:54.093714Z",
     "start_time": "2021-04-06T15:21:54.078334Z"
    }
   },
   "source": [
    "With a p-value falling below my set alpha, we can reasonably say there is a significant difference in the average logerror between Orange county and the average."
   ]
  },
  {
   "cell_type": "markdown",
   "metadata": {},
   "source": [
    "## Test 2\n",
    "Is there a difference in the average log error between houses that are greater than 2500 feet and those that are less? (alpha = .05)"
   ]
  },
  {
   "cell_type": "code",
   "execution_count": null,
   "metadata": {
    "ExecuteTime": {
     "end_time": "2021-04-06T17:59:11.695289Z",
     "start_time": "2021-04-06T17:59:11.636300Z"
    }
   },
   "outputs": [],
   "source": [
    "# Separating into greater or less than 2500 square feet and comparing\n",
    "\n",
    "x1 = train[train['square_feet'] < 2500]\n",
    "x1 = x1['logerror']\n",
    "x2 = train[train['square_feet'] > 2500]\n",
    "x2 = x2['logerror']\n",
    "t, p = stats.ttest_ind(x1, x2)\n",
    "\n",
    "print(f't = {t:.3f}')\n",
    "print(f'p = {p:.3f}')"
   ]
  },
  {
   "cell_type": "markdown",
   "metadata": {
    "ExecuteTime": {
     "end_time": "2021-04-06T15:23:29.762131Z",
     "start_time": "2021-04-06T15:23:29.746859Z"
    }
   },
   "source": [
    "With a p-value falling below my set alpha, we can reasonably say there is a significant difference in the average logerror between properties with greater than 2500 square feet and those with less."
   ]
  },
  {
   "cell_type": "markdown",
   "metadata": {},
   "source": [
    "## Test 3\n",
    "Is there a difference in the average log error between houses that have more than 4 bathrooms and those that have 4 or less? (alpha = .05)"
   ]
  },
  {
   "cell_type": "code",
   "execution_count": null,
   "metadata": {
    "ExecuteTime": {
     "end_time": "2021-04-06T17:59:11.813162Z",
     "start_time": "2021-04-06T17:59:11.704714Z"
    }
   },
   "outputs": [],
   "source": [
    "# Splitting into less than or equal to 4 bathrooms and greater than 4 bathrooms\n",
    "\n",
    "x1 = train[train['bathrooms'] <= 4]\n",
    "x1 = x1['logerror']\n",
    "x2 = train[train['square_feet'] > 4]\n",
    "x2 = x2['logerror']\n",
    "t, p = stats.ttest_ind(x1, x2)\n",
    "\n",
    "print(f't = {t:.3f}')\n",
    "print(f'p = {p:.3f}')"
   ]
  },
  {
   "cell_type": "markdown",
   "metadata": {},
   "source": [
    "With a p-value above my alpha, we can say that there is likely no significant difference in logerror between properties with more than 4 bathrooms and those with 4 or less."
   ]
  },
  {
   "cell_type": "markdown",
   "metadata": {},
   "source": [
    "### Adding > 2500 sqft feature"
   ]
  },
  {
   "cell_type": "code",
   "execution_count": null,
   "metadata": {
    "ExecuteTime": {
     "end_time": "2021-04-06T17:59:11.915451Z",
     "start_time": "2021-04-06T17:59:11.819144Z"
    }
   },
   "outputs": [],
   "source": [
    "train['greater_than_2500_sqft'] = train.square_feet.apply(lambda x: 1 if x > 2500 else 0)\n",
    "validate['greater_than_2500_sqft'] = validate.square_feet.apply(lambda x: 1 if x > 2500 else 0)\n",
    "test['greater_than_2500_sqft'] = test.square_feet.apply(lambda x: 1 if x > 2500 else 0)"
   ]
  },
  {
   "cell_type": "markdown",
   "metadata": {},
   "source": [
    "# Clustering\n",
    "---------"
   ]
  },
  {
   "cell_type": "code",
   "execution_count": null,
   "metadata": {
    "ExecuteTime": {
     "end_time": "2021-04-06T17:59:11.953657Z",
     "start_time": "2021-04-06T17:59:11.922520Z"
    }
   },
   "outputs": [],
   "source": [
    "features = ['bedrooms',\n",
    "            'bathrooms',\n",
    "            'square_feet',\n",
    "            'lotsizesquarefeet',\n",
    "            'tax_value',\n",
    "            'tax_rate',\n",
    "            'age_in_years',\n",
    "            'built_after_1970',\n",
    "            'is_LA',\n",
    "            'is_midmonths',\n",
    "            'latitude',\n",
    "            'longitude'\n",
    "           ]\n",
    "\n",
    "X_train = train[features]\n",
    "y_train = train.logerror\n",
    "\n",
    "X_validate = validate[features]\n",
    "y_validate = validate.logerror\n",
    "\n",
    "X_test = test[features]\n",
    "y_test = test.logerror"
   ]
  },
  {
   "cell_type": "code",
   "execution_count": null,
   "metadata": {
    "ExecuteTime": {
     "end_time": "2021-04-06T17:59:12.102141Z",
     "start_time": "2021-04-06T17:59:11.960158Z"
    }
   },
   "outputs": [],
   "source": [
    "# Scaling data using standard scaler\n",
    "\n",
    "X_train_scaled, X_validate_scaled, X_test_scaled = scale_data(X_train,X_validate,X_test)\n",
    "X_train_scaled.head()"
   ]
  },
  {
   "cell_type": "markdown",
   "metadata": {},
   "source": [
    "----------\n",
    "## square_feet, \n",
    "## tax_value cluster\n"
   ]
  },
  {
   "cell_type": "code",
   "execution_count": null,
   "metadata": {
    "ExecuteTime": {
     "end_time": "2021-04-06T17:59:12.114627Z",
     "start_time": "2021-04-06T17:59:12.106852Z"
    }
   },
   "outputs": [],
   "source": [
    "X = X_train_scaled[['square_feet','tax_value']]"
   ]
  },
  {
   "cell_type": "code",
   "execution_count": null,
   "metadata": {
    "ExecuteTime": {
     "end_time": "2021-04-06T17:59:30.234500Z",
     "start_time": "2021-04-06T17:59:12.122360Z"
    }
   },
   "outputs": [],
   "source": [
    "# Plotting inertia to optimize k-value\n",
    "\n",
    "with plt.style.context('seaborn-whitegrid'):\n",
    "    jtplot.style()\n",
    "    plt.figure(figsize=(9, 6))\n",
    "    pd.Series({k: KMeans(k).fit(X).inertia_ for k in range(2, 12)}).plot(marker='x')\n",
    "    plt.xticks(range(2, 12))\n",
    "    plt.xlabel('k')\n",
    "    plt.ylabel('inertia')\n",
    "    plt.title('Change in inertia as k increases')"
   ]
  },
  {
   "cell_type": "code",
   "execution_count": null,
   "metadata": {
    "ExecuteTime": {
     "end_time": "2021-04-06T17:59:31.310541Z",
     "start_time": "2021-04-06T17:59:30.239727Z"
    }
   },
   "outputs": [],
   "source": [
    "# Create, fit, predict using kmeans\n",
    "\n",
    "kmeans = KMeans(n_clusters=5)\n",
    "kmeans.fit(X)\n",
    "X_train_scaled['cluster'] = kmeans.predict(X)\n",
    "X['cluster'] = kmeans.predict(X)\n",
    "centroids_scaled = pd.DataFrame(kmeans.cluster_centers_, columns = X.iloc[:,0:2].columns)\n",
    "centroids = X_train_scaled.groupby('cluster')['square_feet', 'tax_value'].mean()"
   ]
  },
  {
   "cell_type": "code",
   "execution_count": null,
   "metadata": {
    "ExecuteTime": {
     "end_time": "2021-04-06T17:59:33.306297Z",
     "start_time": "2021-04-06T17:59:31.314171Z"
    }
   },
   "outputs": [],
   "source": [
    "plt.figure(figsize=(14, 9))\n",
    "\n",
    "# Scatter plot of data with hue for cluster\n",
    "sns.scatterplot(x = 'square_feet', y = 'tax_value', data = X, hue = 'cluster', palette='tab10')\n",
    "\n",
    "# Plot cluster centers (centroids)\n",
    "centroids.plot.scatter(x = 'square_feet', y = 'tax_value', ax = plt.gca(), color ='red', alpha = 0.3, s = 800, marker = 'o', label = 'centroids')\n",
    "plt.title('Visualizing Cluster Centers')\n",
    "plt.legend();"
   ]
  },
  {
   "cell_type": "markdown",
   "metadata": {},
   "source": [
    "### Cluster descriptions:\n",
    "    0: lower square foot, medium tax value\n",
    "    1: higher square foot, low to medium tax value\n",
    "    2: higher square foot, medium to high tax value\n",
    "    3: medium square foot, high tax value\n",
    "    4: low square foot, low tax value"
   ]
  },
  {
   "cell_type": "markdown",
   "metadata": {},
   "source": [
    "## Sam Cluster 1 \n",
    "- 'county_Orange',\n",
    "- 'bathrooms', \n",
    "- 'greater_than_2500_sqft'"
   ]
  },
  {
   "cell_type": "code",
   "execution_count": null,
   "metadata": {
    "ExecuteTime": {
     "end_time": "2021-04-06T17:59:33.326173Z",
     "start_time": "2021-04-06T17:59:33.308666Z"
    }
   },
   "outputs": [],
   "source": [
    "display.Image(\"./SamCluster1.png\")"
   ]
  },
  {
   "cell_type": "code",
   "execution_count": null,
   "metadata": {
    "ExecuteTime": {
     "end_time": "2021-04-06T17:59:33.346695Z",
     "start_time": "2021-04-06T17:59:33.332494Z"
    }
   },
   "outputs": [],
   "source": [
    "display.Image(\"./SamCluster2.png\")"
   ]
  },
  {
   "cell_type": "code",
   "execution_count": null,
   "metadata": {
    "ExecuteTime": {
     "end_time": "2021-04-06T17:59:33.366484Z",
     "start_time": "2021-04-06T17:59:33.349352Z"
    }
   },
   "outputs": [],
   "source": [
    "display.Image(\"./SamCluster3.png\")"
   ]
  },
  {
   "cell_type": "markdown",
   "metadata": {},
   "source": [
    "### The clusters seem to have the following descriptions:\n",
    "    0: Mostly not Orange county, lower square footage, large number of bathrooms\n",
    "    1: Majority Orange county, lower square footage, average number of bathrooms\n",
    "    2: Pretty even spread by county, high square footage, high number of bathrooms, high square footage\n",
    "    3: Mostly not Orange county, lower square footage, small amount of bathrooms"
   ]
  },
  {
   "cell_type": "markdown",
   "metadata": {},
   "source": [
    "---------------\n",
    "# Sam Cluster 2\n",
    "- tax_rate, \n",
    "- age_in_years, \n",
    "- square_feet cluster\n"
   ]
  },
  {
   "cell_type": "code",
   "execution_count": null,
   "metadata": {
    "ExecuteTime": {
     "end_time": "2021-04-06T17:59:34.604640Z",
     "start_time": "2021-04-06T17:59:33.371251Z"
    }
   },
   "outputs": [],
   "source": [
    "# Clusters created using features that would seem to have no relationship\n",
    "\n",
    "X = X_train_scaled[['tax_rate', 'age_in_years', 'square_feet']]\n",
    "kmeans = KMeans(n_clusters=4)\n",
    "kmeans.fit(X)\n",
    "kmeans.predict(X)"
   ]
  },
  {
   "cell_type": "code",
   "execution_count": null,
   "metadata": {
    "ExecuteTime": {
     "end_time": "2021-04-06T17:59:34.626171Z",
     "start_time": "2021-04-06T17:59:34.610054Z"
    }
   },
   "outputs": [],
   "source": [
    "# Creating centroids\n",
    "\n",
    "X_train_scaled['cluster2'] = kmeans.predict(X)\n",
    "centroids = pd.DataFrame(kmeans.cluster_centers_, columns=X.columns)"
   ]
  },
  {
   "cell_type": "code",
   "execution_count": null,
   "metadata": {
    "ExecuteTime": {
     "end_time": "2021-04-06T17:59:50.869042Z",
     "start_time": "2021-04-06T17:59:34.630246Z"
    }
   },
   "outputs": [],
   "source": [
    "# Plotting inertia to optimize k-value\n",
    "\n",
    "with plt.style.context('seaborn-whitegrid'):\n",
    "    jtplot.style()\n",
    "    plt.figure(figsize=(9, 6))\n",
    "    pd.Series({k: KMeans(k).fit(X).inertia_ for k in range(2, 12)}).plot(marker='x')\n",
    "    plt.xticks(range(2, 12))\n",
    "    plt.xlabel('k')\n",
    "    plt.ylabel('inertia')\n",
    "    plt.title('Change in inertia as k increases')"
   ]
  },
  {
   "cell_type": "code",
   "execution_count": null,
   "metadata": {
    "ExecuteTime": {
     "end_time": "2021-04-06T17:59:53.956009Z",
     "start_time": "2021-04-06T17:59:50.876011Z"
    }
   },
   "outputs": [],
   "source": [
    "plt.figure(figsize=(14, 9))\n",
    "\n",
    "# Scatter plot of data with hue for cluster\n",
    "sns.scatterplot(y = 'square_feet', x = 'age_in_years', data = X_train_scaled, hue = 'cluster2', palette='tab10')\n",
    "\n",
    "# Plot cluster centers (centroids)\n",
    "centroids.plot.scatter(y = 'square_feet', x = 'age_in_years', ax = plt.gca(), color ='black', alpha = 0.8, s = 800, marker = 'o', label = 'centroids')\n",
    "plt.title('Visualizing Cluster Centers')\n",
    "plt.legend();"
   ]
  },
  {
   "cell_type": "code",
   "execution_count": null,
   "metadata": {
    "ExecuteTime": {
     "end_time": "2021-04-06T17:59:56.164004Z",
     "start_time": "2021-04-06T17:59:53.959323Z"
    }
   },
   "outputs": [],
   "source": [
    "plt.figure(figsize=(14, 9))\n",
    "\n",
    "# Scatter plot of data with hue for cluster\n",
    "sns.scatterplot(x = 'square_feet', y = 'tax_rate', data = X_train_scaled, hue = 'cluster2', palette='tab10')\n",
    "\n",
    "# Plot cluster centers (centroids)\n",
    "centroids.plot.scatter(x = 'square_feet', y = 'tax_rate', ax = plt.gca(), color ='black', alpha = 0.8, s = 800, marker = 'o', label = 'centroids')\n",
    "plt.title('Visualizing Cluster Centers')\n",
    "plt.legend();"
   ]
  },
  {
   "cell_type": "code",
   "execution_count": null,
   "metadata": {
    "ExecuteTime": {
     "end_time": "2021-04-06T17:59:56.216530Z",
     "start_time": "2021-04-06T17:59:56.178447Z"
    }
   },
   "outputs": [],
   "source": [
    "centroids"
   ]
  },
  {
   "cell_type": "markdown",
   "metadata": {},
   "source": [
    "### Cluster descriptions:\n",
    "    0: moderate tax rate, old, low square feet\n",
    "    1: high tax rate, old, low square feet\n",
    "    2: moderate tax rate, young, high square footage\n",
    "    3: moderate tax rate, very young, low square feet"
   ]
  },
  {
   "cell_type": "markdown",
   "metadata": {},
   "source": [
    "--------\n",
    "## longitude,\n",
    "## latitude cluster"
   ]
  },
  {
   "cell_type": "code",
   "execution_count": null,
   "metadata": {
    "ExecuteTime": {
     "end_time": "2021-04-06T17:59:56.254423Z",
     "start_time": "2021-04-06T17:59:56.234947Z"
    }
   },
   "outputs": [],
   "source": [
    "X = X_train_scaled[['longitude','latitude']]"
   ]
  },
  {
   "cell_type": "code",
   "execution_count": null,
   "metadata": {
    "ExecuteTime": {
     "end_time": "2021-04-06T18:00:08.856519Z",
     "start_time": "2021-04-06T17:59:56.263366Z"
    }
   },
   "outputs": [],
   "source": [
    "# Plotting inertia to optimize k-value\n",
    "\n",
    "with plt.style.context('seaborn-whitegrid'):\n",
    "    jtplot.style()\n",
    "    plt.figure(figsize=(9, 6))\n",
    "    pd.Series({k: KMeans(k).fit(X).inertia_ for k in range(2, 12)}).plot(marker='x')\n",
    "    plt.xticks(range(2, 12))\n",
    "    plt.xlabel('k')\n",
    "    plt.ylabel('inertia')\n",
    "    plt.title('Change in inertia as k increases')"
   ]
  },
  {
   "cell_type": "code",
   "execution_count": null,
   "metadata": {
    "ExecuteTime": {
     "end_time": "2021-04-06T18:00:10.825099Z",
     "start_time": "2021-04-06T18:00:08.863434Z"
    }
   },
   "outputs": [],
   "source": [
    "# Creating clusters based on longitude and latitude\n",
    "\n",
    "kmeans = KMeans(n_clusters=6, random_state=123)\n",
    "kmeans.fit(X)\n",
    "X_train_scaled['cluster'] = kmeans.predict(X)\n",
    "X['cluster'] = kmeans.predict(X)\n",
    "centroids_scaled = pd.DataFrame(kmeans.cluster_centers_, columns = X.iloc[:,0:2].columns)\n",
    "centroids = X_train_scaled.groupby('cluster')['longitude', 'latitude'].mean()"
   ]
  },
  {
   "cell_type": "code",
   "execution_count": null,
   "metadata": {
    "ExecuteTime": {
     "end_time": "2021-04-06T18:00:13.588157Z",
     "start_time": "2021-04-06T18:00:10.830873Z"
    }
   },
   "outputs": [],
   "source": [
    "plt.figure(figsize=(10, 10))\n",
    "\n",
    "# Scatter plot of data with hue for cluster\n",
    "sns.scatterplot(x = 'longitude', y = 'latitude', data = X_train_scaled, hue = 'cluster', palette='tab10')\n",
    "\n",
    "# Plot cluster centers (centroids)\n",
    "centroids.plot.scatter(x = 'longitude', y = 'latitude', ax = plt.gca(), color ='red', alpha = 0.3, s = 800, marker = 'o', label = 'centroids')\n",
    "\n",
    "plt.title('Visualizing Cluster Centers')\n",
    "plt.legend();"
   ]
  },
  {
   "cell_type": "markdown",
   "metadata": {},
   "source": [
    "### Cluster descriptions:\n",
    "    0: West LA\n",
    "    1: East LA\n",
    "    2: North LA\n",
    "    3: Ventura\n",
    "    4: Orange\n",
    "    5: SouthWest LA"
   ]
  },
  {
   "cell_type": "markdown",
   "metadata": {},
   "source": [
    "## Clustering takeaways\n",
    "- clustering by region makes the most sense\n",
    "- LA is split into 4 regions, Ventura and Orange county are their own clusters"
   ]
  },
  {
   "cell_type": "markdown",
   "metadata": {},
   "source": [
    "------\n",
    "# Regression Modeling"
   ]
  },
  {
   "cell_type": "code",
   "execution_count": null,
   "metadata": {
    "ExecuteTime": {
     "end_time": "2021-04-06T18:00:13.618602Z",
     "start_time": "2021-04-06T18:00:13.593358Z"
    }
   },
   "outputs": [],
   "source": [
    "# Narrowing down features for modeling based on prior experience with data set and stats testing\n",
    "\n",
    "features = ['bedrooms',\n",
    "            'bathrooms',\n",
    "            'square_feet',\n",
    "            'lotsizesquarefeet',\n",
    "            'tax_value',\n",
    "            'tax_rate',\n",
    "            'age_in_years',\n",
    "            'built_after_1970',\n",
    "            'is_LA',\n",
    "            'is_midmonths',\n",
    "            'latitude',\n",
    "            'longitude'\n",
    "           ]\n",
    "\n",
    "X_train = train[features]\n",
    "y_train = train.logerror\n",
    "\n",
    "X_validate = validate[features]\n",
    "y_validate = validate.logerror\n",
    "\n",
    "X_test = test[features]\n",
    "y_test = test.logerror"
   ]
  },
  {
   "cell_type": "code",
   "execution_count": null,
   "metadata": {
    "ExecuteTime": {
     "end_time": "2021-04-06T18:00:13.634677Z",
     "start_time": "2021-04-06T18:00:13.624732Z"
    }
   },
   "outputs": [],
   "source": [
    "# Converting series to dataframes\n",
    "\n",
    "y_train= pd.DataFrame(y_train)\n",
    "y_validate = pd.DataFrame(y_validate)\n",
    "y_test = pd.DataFrame(y_test)"
   ]
  },
  {
   "cell_type": "code",
   "execution_count": null,
   "metadata": {
    "ExecuteTime": {
     "end_time": "2021-04-06T18:00:13.707329Z",
     "start_time": "2021-04-06T18:00:13.640128Z"
    }
   },
   "outputs": [],
   "source": [
    "# Scaling using a standard scaler\n",
    "\n",
    "X_train_scaled, X_validate_scaled, X_test_scaled = scale_data(X_train,X_validate,X_test)\n",
    "X_train_scaled.head()"
   ]
  },
  {
   "cell_type": "markdown",
   "metadata": {},
   "source": [
    "### Feature engineering\n",
    "- using select kbest and rfe for guidelines on which features to focus on"
   ]
  },
  {
   "cell_type": "code",
   "execution_count": null,
   "metadata": {
    "ExecuteTime": {
     "end_time": "2021-04-06T18:00:13.844682Z",
     "start_time": "2021-04-06T18:00:13.716227Z"
    }
   },
   "outputs": [],
   "source": [
    "# Finding features most associated with logerror\n",
    "\n",
    "feature_train = train.select_dtypes(include=['float64', 'int64', 'uint8'])\n",
    "select_kbest(feature_train.drop(columns=['logerror', 'logerror_absolute']), feature_train['logerror'], 5)"
   ]
  },
  {
   "cell_type": "code",
   "execution_count": null,
   "metadata": {
    "ExecuteTime": {
     "end_time": "2021-04-06T18:00:13.896472Z",
     "start_time": "2021-04-06T18:00:13.855467Z"
    }
   },
   "outputs": [],
   "source": [
    "select_kbest(X_train_scaled,y_train, 8)"
   ]
  },
  {
   "cell_type": "code",
   "execution_count": null,
   "metadata": {
    "ExecuteTime": {
     "end_time": "2021-04-06T18:00:14.066102Z",
     "start_time": "2021-04-06T18:00:13.935669Z"
    }
   },
   "outputs": [],
   "source": [
    "rfe(X_train_scaled, y_train, 8)"
   ]
  },
  {
   "cell_type": "code",
   "execution_count": null,
   "metadata": {
    "ExecuteTime": {
     "end_time": "2021-04-06T18:00:15.706671Z",
     "start_time": "2021-04-06T18:00:14.084809Z"
    }
   },
   "outputs": [],
   "source": [
    "# Fitting kmeans to latitude, longitude clusters\n",
    "\n",
    "X = X_train_scaled[['longitude','latitude']]\n",
    "kmeans = KMeans(n_clusters=6, random_state=123)\n",
    "kmeans.fit(X)"
   ]
  },
  {
   "cell_type": "code",
   "execution_count": null,
   "metadata": {
    "ExecuteTime": {
     "end_time": "2021-04-06T18:00:15.780405Z",
     "start_time": "2021-04-06T18:00:15.715471Z"
    }
   },
   "outputs": [],
   "source": [
    "# Adding cluster columns to train, validate, test\n",
    "\n",
    "X_train_scaled['cluster'] = kmeans.predict(X)\n",
    "y_train['cluster'] = kmeans.predict(X)\n",
    "\n",
    "X_validate_scaled['cluster'] = kmeans.predict(X_validate_scaled[['longitude','latitude']])\n",
    "y_validate['cluster'] = kmeans.predict(X_validate_scaled[['longitude','latitude']])\n",
    "\n",
    "X_test_scaled['cluster'] = kmeans.predict(X_test_scaled[['longitude','latitude']])\n",
    "y_test['cluster'] =  kmeans.predict(X_test_scaled[['longitude','latitude']])"
   ]
  },
  {
   "cell_type": "code",
   "execution_count": null,
   "metadata": {
    "ExecuteTime": {
     "end_time": "2021-04-06T18:00:15.827147Z",
     "start_time": "2021-04-06T18:00:15.784531Z"
    }
   },
   "outputs": [],
   "source": [
    "X_train_scaled.head(1)"
   ]
  },
  {
   "cell_type": "markdown",
   "metadata": {},
   "source": [
    "## Sam Cluster 1 \n",
    "- 'county_Orange',\n",
    "- 'bathrooms', \n",
    "- 'greater_than_2500_sqft'"
   ]
  },
  {
   "cell_type": "code",
   "execution_count": null,
   "metadata": {
    "ExecuteTime": {
     "end_time": "2021-04-06T19:26:31.517496Z",
     "start_time": "2021-04-06T19:26:31.497768Z"
    }
   },
   "outputs": [],
   "source": [
    "display.Image(\"./Sam Linear model baseline.png\")"
   ]
  },
  {
   "cell_type": "code",
   "execution_count": null,
   "metadata": {
    "ExecuteTime": {
     "end_time": "2021-04-06T19:27:23.149861Z",
     "start_time": "2021-04-06T19:27:23.132335Z"
    }
   },
   "outputs": [],
   "source": [
    "display.Image(\"./Sam Linear model train.png\")"
   ]
  },
  {
   "cell_type": "code",
   "execution_count": null,
   "metadata": {
    "ExecuteTime": {
     "end_time": "2021-04-06T19:27:18.317414Z",
     "start_time": "2021-04-06T19:27:18.299866Z"
    }
   },
   "outputs": [],
   "source": [
    "display.Image(\"./Sam Linear model test.png\")"
   ]
  },
  {
   "cell_type": "markdown",
   "metadata": {},
   "source": [
    "# subsetting train, validate, test with latitude, longitude Clusters"
   ]
  },
  {
   "cell_type": "code",
   "execution_count": null,
   "metadata": {
    "ExecuteTime": {
     "end_time": "2021-04-06T18:00:17.979687Z",
     "start_time": "2021-04-06T18:00:15.898352Z"
    }
   },
   "outputs": [],
   "source": [
    "plt.figure(figsize=(10, 10))\n",
    "# Scatter plot of data with hue for cluster\n",
    "sns.scatterplot(x = 'longitude', y = 'latitude', data = X_train_scaled, hue = 'cluster', palette='tab10')\n",
    "\n",
    "# Plot cluster centers (centroids)\n",
    "centroids.plot.scatter(x = 'longitude', y = 'latitude', ax = plt.gca(), color ='red', alpha = 0.3, s = 800, marker = 'o', label = 'centroids')\n",
    "plt.title('Visualizing Cluster Centers')\n",
    "plt.legend();"
   ]
  },
  {
   "cell_type": "markdown",
   "metadata": {
    "ExecuteTime": {
     "end_time": "2021-04-06T16:50:29.163421Z",
     "start_time": "2021-04-06T16:50:29.156435Z"
    }
   },
   "source": [
    "### Cluster descriptions:\n",
    "    0: West LA\n",
    "    1: East LA\n",
    "    2: North LA\n",
    "    3: Ventura\n",
    "    4: Orange\n",
    "    5: SouthWest LA"
   ]
  },
  {
   "cell_type": "code",
   "execution_count": null,
   "metadata": {
    "ExecuteTime": {
     "end_time": "2021-04-06T18:00:17.995300Z",
     "start_time": "2021-04-06T18:00:17.982994Z"
    }
   },
   "outputs": [],
   "source": [
    "X_train_scaled.cluster.value_counts()"
   ]
  },
  {
   "cell_type": "code",
   "execution_count": null,
   "metadata": {
    "ExecuteTime": {
     "end_time": "2021-04-06T18:00:18.013008Z",
     "start_time": "2021-04-06T18:00:17.999798Z"
    }
   },
   "outputs": [],
   "source": [
    "# Subsetting train for west LA\n",
    "X_train_scaled_West_LA = X_train_scaled[X_train_scaled.cluster == 0]\n",
    "y_train_West_LA = y_train[y_train.cluster == 0]"
   ]
  },
  {
   "cell_type": "code",
   "execution_count": null,
   "metadata": {
    "ExecuteTime": {
     "end_time": "2021-04-06T18:00:18.027300Z",
     "start_time": "2021-04-06T18:00:18.016341Z"
    }
   },
   "outputs": [],
   "source": [
    "# Subsetting validate for west LA\n",
    "X_validate_scaled_West_LA = X_validate_scaled[X_validate_scaled.cluster == 0]\n",
    "y_validate_West_LA = y_validate[y_validate.cluster == 0]"
   ]
  },
  {
   "cell_type": "code",
   "execution_count": null,
   "metadata": {
    "ExecuteTime": {
     "end_time": "2021-04-06T18:00:18.043664Z",
     "start_time": "2021-04-06T18:00:18.032852Z"
    }
   },
   "outputs": [],
   "source": [
    "# Subsetting test for west LA\n",
    "X_test_scaled_West_LA = X_test_scaled[X_test_scaled.cluster == 0]\n",
    "y_test_West_LA = y_test[y_test.cluster == 0]"
   ]
  },
  {
   "cell_type": "markdown",
   "metadata": {},
   "source": [
    "------\n",
    "# Baseline RMSE 0.13 (mean) - West LA cluster (0)"
   ]
  },
  {
   "cell_type": "code",
   "execution_count": null,
   "metadata": {
    "ExecuteTime": {
     "end_time": "2021-04-06T18:00:18.059887Z",
     "start_time": "2021-04-06T18:00:18.047126Z"
    }
   },
   "outputs": [],
   "source": [
    "# Mean baseline\n",
    "logerror_pred_mean = y_train_West_LA.logerror.mean()\n",
    "y_train_West_LA['logerror_pred_mean'] = logerror_pred_mean\n",
    "y_validate_West_LA['logerror_pred_mean'] = logerror_pred_mean"
   ]
  },
  {
   "cell_type": "code",
   "execution_count": null,
   "metadata": {
    "ExecuteTime": {
     "end_time": "2021-04-06T18:00:18.075767Z",
     "start_time": "2021-04-06T18:00:18.064431Z"
    }
   },
   "outputs": [],
   "source": [
    "# Median baseline\n",
    "logerror_pred_median = y_train_West_LA.logerror.median()\n",
    "y_train_West_LA['logerror_pred_median'] = logerror_pred_median\n",
    "y_validate_West_LA['logerror_pred_median'] = logerror_pred_median"
   ]
  },
  {
   "cell_type": "code",
   "execution_count": null,
   "metadata": {
    "ExecuteTime": {
     "end_time": "2021-04-06T18:00:18.100662Z",
     "start_time": "2021-04-06T18:00:18.081475Z"
    }
   },
   "outputs": [],
   "source": [
    "# RMSE of pred_mean\n",
    "rmse_train = mean_squared_error(y_train_West_LA.logerror, y_train_West_LA.logerror_pred_mean) ** .5\n",
    "rmse_validate = mean_squared_error(y_validate_West_LA.logerror, y_validate_West_LA.logerror_pred_mean) ** (1/2)\n",
    "\n",
    "print(\"RMSE using Mean\\nTrain/In-Sample: \", round(rmse_train, 2), \n",
    "      \"\\nValidate/Out-of-Sample: \", round(rmse_validate, 2))\n",
    "print()\n",
    "\n",
    "# RMSE of pred_median\n",
    "rmse_train = mean_squared_error(y_train_West_LA.logerror, y_train_West_LA.logerror_pred_median) ** .5\n",
    "rmse_validate = mean_squared_error(y_validate_West_LA.logerror, y_validate_West_LA.logerror_pred_median) ** .5\n",
    "print(\"RMSE using Median\\nTrain/In-Sample: \", round(rmse_train, 2), \n",
    "      \"\\nValidate/Out-of-Sample: \", round(rmse_validate, 2))"
   ]
  },
  {
   "cell_type": "markdown",
   "metadata": {},
   "source": [
    "-------\n",
    "# Gradient Boost Regressor"
   ]
  },
  {
   "cell_type": "code",
   "execution_count": null,
   "metadata": {
    "ExecuteTime": {
     "end_time": "2021-04-06T18:00:18.159599Z",
     "start_time": "2021-04-06T18:00:18.105346Z"
    }
   },
   "outputs": [],
   "source": [
    "from sklearn import ensemble\n",
    "from sklearn.ensemble import GradientBoostingRegressor"
   ]
  },
  {
   "cell_type": "code",
   "execution_count": null,
   "metadata": {
    "ExecuteTime": {
     "end_time": "2021-04-06T18:00:18.175519Z",
     "start_time": "2021-04-06T18:00:18.164642Z"
    }
   },
   "outputs": [],
   "source": [
    "gbr = ensemble.GradientBoostingRegressor(random_state=123, alpha=0.9, criterion='friedman_mse', init=None,\n",
    "                                         learning_rate=0.03, loss='ls', max_depth=4, max_features=None,\n",
    "                                         max_leaf_nodes=None, min_impurity_split=1e-07,\n",
    "                                         min_samples_leaf=1, min_samples_split=2,\n",
    "                                         min_weight_fraction_leaf=0.0, n_estimators=111,\n",
    "                                         presort='auto', subsample=1.0, verbose=0,\n",
    "                                         warm_start=False)"
   ]
  },
  {
   "cell_type": "code",
   "execution_count": null,
   "metadata": {
    "ExecuteTime": {
     "end_time": "2021-04-06T18:00:18.186968Z",
     "start_time": "2021-04-06T18:00:18.181236Z"
    }
   },
   "outputs": [],
   "source": [
    "# Specifying features for xgb model\n",
    "gbr_features = ['bedrooms',\n",
    "                'bathrooms',\n",
    "                'square_feet',\n",
    "                'lotsizesquarefeet',\n",
    "                'tax_value',\n",
    "                'tax_rate',\n",
    "                'age_in_years',\n",
    "                'built_after_1970',\n",
    "                'is_LA',\n",
    "                'is_midmonths'\n",
    "                ]"
   ]
  },
  {
   "cell_type": "code",
   "execution_count": null,
   "metadata": {
    "ExecuteTime": {
     "end_time": "2021-04-06T18:00:21.030946Z",
     "start_time": "2021-04-06T18:00:18.194010Z"
    }
   },
   "outputs": [],
   "source": [
    "gbr.fit(X_train_scaled_West_LA[gbr_features], y_train_West_LA.logerror)"
   ]
  },
  {
   "cell_type": "code",
   "execution_count": null,
   "metadata": {
    "ExecuteTime": {
     "end_time": "2021-04-06T18:00:21.115039Z",
     "start_time": "2021-04-06T18:00:21.038417Z"
    }
   },
   "outputs": [],
   "source": [
    "# Predict train\n",
    "y_train_West_LA['logerror_pred_gbr'] = gbr.predict(X_train_scaled_West_LA[gbr_features])\n",
    "\n",
    "# Evaluate: rmse\n",
    "rmse_train = mean_squared_error(y_train_West_LA.logerror, y_train_West_LA.logerror_pred_gbr) ** (1/2)\n",
    "\n",
    "# Predict validate\n",
    "y_validate_West_LA['logerror_pred_gbr'] = gbr.predict(X_validate_scaled_West_LA[gbr_features])\n",
    "\n",
    "# Evaluate: rmse\n",
    "rmse_validate = mean_squared_error(y_validate_West_LA.logerror, y_validate_West_LA.logerror_pred_gbr) ** (1/2)\n",
    "\n",
    "print(\"RMSE for GBR\\nTraining/In-Sample: \", round(rmse_train,2), \n",
    "      \"\\nValidation/Out-of-Sample: \", round(rmse_validate,2))"
   ]
  },
  {
   "cell_type": "markdown",
   "metadata": {},
   "source": [
    "### GBR model feature rankings"
   ]
  },
  {
   "cell_type": "code",
   "execution_count": null,
   "metadata": {
    "ExecuteTime": {
     "end_time": "2021-04-06T18:00:21.142622Z",
     "start_time": "2021-04-06T18:00:21.124660Z"
    }
   },
   "outputs": [],
   "source": [
    "feature_labels = np.array(X_train_scaled_West_LA.columns.tolist())\n",
    "importance = gbr.feature_importances_\n",
    "feature_indexes_by_importance = importance.argsort()\n",
    "\n",
    "for index in feature_indexes_by_importance:\n",
    "    print('{}-{:.2f}%'.format(feature_labels[index], (importance[index] *100.0)))"
   ]
  },
  {
   "cell_type": "markdown",
   "metadata": {},
   "source": [
    "# GBR model performance on test data"
   ]
  },
  {
   "cell_type": "code",
   "execution_count": null,
   "metadata": {
    "ExecuteTime": {
     "end_time": "2021-04-06T18:00:37.800196Z",
     "start_time": "2021-04-06T18:00:37.774340Z"
    }
   },
   "outputs": [],
   "source": [
    "# Predict on test\n",
    "y_test_West_LA['logerror_pred_gbr'] = gbr.predict(X_test_scaled_West_LA[gbr_features])\n",
    "\n",
    "# Evaluate: rmse\n",
    "rmse_test = mean_squared_error(y_test_West_LA.logerror, y_test_West_LA.logerror_pred_gbr)**(1/2)\n",
    "\n",
    "print(\"RMSE for GBR Model\\nOut-of-Sample Performance: \", round(rmse_test,2))"
   ]
  },
  {
   "cell_type": "code",
   "execution_count": null,
   "metadata": {
    "ExecuteTime": {
     "end_time": "2021-04-06T18:00:42.842170Z",
     "start_time": "2021-04-06T18:00:42.496119Z"
    }
   },
   "outputs": [],
   "source": [
    "jtplot.style(grid='False', fscale=1.4)\n",
    "plt.figure(figsize=(10,10))\n",
    "plt.plot(y_validate_West_LA.logerror, y_validate_West_LA.logerror_pred_mean, alpha=.5, color=\"white\", label='_nolegend_')\n",
    "plt.annotate(\"Baseline: Predict Using Mean\", (-1.5,.05))\n",
    "plt.plot(y_validate_West_LA.logerror, y_validate_West_LA.logerror, alpha=.5, color=\"white\", label='_nolegend_')\n",
    "plt.annotate(\"The Ideal Line: Predicted = Actual\", (.15, .1), rotation=73)\n",
    "\n",
    "plt.scatter(y_validate_West_LA.logerror, y_validate_West_LA.logerror_pred_gbr, \n",
    "            alpha=.5, color=\"red\", s=100, label=\"Model: Gradient Boost\")\n",
    "plt.ylim(-0.5,0.5)\n",
    "plt.legend()\n",
    "plt.xlabel(\"Actual logerror\")\n",
    "plt.ylabel(\"Predicted logerror\")\n",
    "plt.title(\"Logerror predictions\")\n",
    "\n",
    "plt.show()"
   ]
  },
  {
   "cell_type": "code",
   "execution_count": null,
   "metadata": {
    "ExecuteTime": {
     "end_time": "2021-04-06T18:00:44.429141Z",
     "start_time": "2021-04-06T18:00:44.144777Z"
    }
   },
   "outputs": [],
   "source": [
    "plt.figure(figsize=(16,8))\n",
    "plt.axhline(label=\"No Error\")\n",
    "plt.scatter(y_validate_West_LA.logerror, y_validate_West_LA.logerror_pred_gbr-y_validate_West_LA.logerror, \n",
    "            alpha=.5, color=\"red\", s=100, label=\"Model: Gradient Boost\")\n",
    "\n",
    "plt.legend()\n",
    "plt.xlabel(\"Actual logerror\")\n",
    "plt.ylabel(\"Residual/Error: Predicted logerror - Actual logerror\")\n",
    "plt.title(\"Do the size of errors change as the actual value changes?\")\n",
    "plt.annotate(\"Obvious down trend in residuals meaning the model doesn't capture the trend in the data well\", (-1.5,-0.2))\n",
    "\n",
    "plt.show()"
   ]
  },
  {
   "cell_type": "markdown",
   "metadata": {},
   "source": [
    "## Modeling takeaways\n",
    "- Unable to create model that outperforms baseline\n",
    "- Features had no linear correlation to logerror"
   ]
  },
  {
   "cell_type": "markdown",
   "metadata": {},
   "source": [
    "# Conclusions\n",
    "- logerror is not linear therefore we need nonlinear regression models\n",
    "- Clustering did not improve linear regression models\n",
    "- Next steps, possibly get Zestimate and Sale price data or create a logarithmic regression model"
   ]
  },
  {
   "cell_type": "code",
   "execution_count": null,
   "metadata": {},
   "outputs": [],
   "source": []
  }
 ],
 "metadata": {
  "kernelspec": {
   "display_name": "Python 3",
   "language": "python",
   "name": "python3"
  },
  "language_info": {
   "codemirror_mode": {
    "name": "ipython",
    "version": 3
   },
   "file_extension": ".py",
   "mimetype": "text/x-python",
   "name": "python",
   "nbconvert_exporter": "python",
   "pygments_lexer": "ipython3",
   "version": "3.8.5"
  }
 },
 "nbformat": 4,
 "nbformat_minor": 4
}
