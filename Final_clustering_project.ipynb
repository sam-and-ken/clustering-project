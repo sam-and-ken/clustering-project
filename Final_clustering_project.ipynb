{
 "cells": [
  {
   "cell_type": "code",
   "execution_count": 1,
   "metadata": {
    "ExecuteTime": {
     "end_time": "2021-04-06T00:06:45.645750Z",
     "start_time": "2021-04-06T00:06:45.615736Z"
    }
   },
   "outputs": [],
   "source": [
    "import warnings\n",
    "warnings.filterwarnings(\"ignore\")\n",
    "\n",
    "import pandas as pd\n",
    "import numpy as np\n",
    "import matplotlib.pyplot as plt\n",
    "import seaborn as sns\n",
    "\n",
    "from scipy import stats\n",
    "\n",
    "from jupyterthemes import jtplot\n",
    "jtplot.style(grid=False)\n",
    "\n",
    "from wrangle_zillow import wrangle_zillow, scale_data, split_zillow"
   ]
  },
  {
   "cell_type": "markdown",
   "metadata": {},
   "source": [
    "# Analyzing and predicting logerror"
   ]
  },
  {
   "cell_type": "markdown",
   "metadata": {},
   "source": [
    "### Key Findings:\n",
    "-"
   ]
  },
  {
   "cell_type": "markdown",
   "metadata": {},
   "source": [
    "## Data acquisition and prep\n",
    "- "
   ]
  },
  {
   "cell_type": "code",
   "execution_count": 2,
   "metadata": {
    "ExecuteTime": {
     "end_time": "2021-04-06T00:09:39.051643Z",
     "start_time": "2021-04-06T00:09:26.003551Z"
    }
   },
   "outputs": [
    {
     "name": "stdout",
     "output_type": "stream",
     "text": [
      "<class 'pandas.core.frame.DataFrame'>\n",
      "Int64Index: 66858 entries, 0 to 77379\n",
      "Data columns (total 30 columns):\n",
      " #   Column                      Non-Null Count  Dtype  \n",
      "---  ------                      --------------  -----  \n",
      " 0   parcelid                    66858 non-null  int64  \n",
      " 1   logerror                    66858 non-null  float64\n",
      " 2   transactiondate             66858 non-null  object \n",
      " 3   bathrooms                   66858 non-null  float64\n",
      " 4   bedrooms                    66858 non-null  float64\n",
      " 5   buildingqualitytypeid       66858 non-null  float64\n",
      " 6   square_feet                 66858 non-null  float64\n",
      " 7   fips                        66858 non-null  float64\n",
      " 8   latitude                    66858 non-null  float64\n",
      " 9   longitude                   66858 non-null  float64\n",
      " 10  lotsizesquarefeet           66858 non-null  float64\n",
      " 11  rawcensustractandblock      66858 non-null  float64\n",
      " 12  regionidcity                66858 non-null  float64\n",
      " 13  regionidcounty              66858 non-null  float64\n",
      " 14  regionidzip                 66858 non-null  float64\n",
      " 15  roomcnt                     66858 non-null  float64\n",
      " 16  unitcnt                     66858 non-null  float64\n",
      " 17  yearbuilt                   66858 non-null  float64\n",
      " 18  structuretaxvaluedollarcnt  66858 non-null  float64\n",
      " 19  tax_value                   66858 non-null  float64\n",
      " 20  assessmentyear              66858 non-null  float64\n",
      " 21  landtaxvaluedollarcnt       66858 non-null  float64\n",
      " 22  taxes                       66858 non-null  float64\n",
      " 23  heatingorsystemdesc         66858 non-null  object \n",
      " 24  county                      66858 non-null  object \n",
      " 25  logerror_absolute           66858 non-null  float64\n",
      " 26  age_in_years                66858 non-null  float64\n",
      " 27  Bathrooms_cat               66858 non-null  object \n",
      " 28  Bedrooms_cat                66858 non-null  object \n",
      " 29  tax_rate                    66858 non-null  float64\n",
      "dtypes: float64(24), int64(1), object(5)\n",
      "memory usage: 15.8+ MB\n"
     ]
    }
   ],
   "source": [
    "#acquiring data from codeup zillow database\n",
    "df = wrangle_zillow()\n",
    "df.info()"
   ]
  },
  {
   "cell_type": "code",
   "execution_count": null,
   "metadata": {},
   "outputs": [],
   "source": []
  }
 ],
 "metadata": {
  "kernelspec": {
   "display_name": "Python 3",
   "language": "python",
   "name": "python3"
  },
  "language_info": {
   "codemirror_mode": {
    "name": "ipython",
    "version": 3
   },
   "file_extension": ".py",
   "mimetype": "text/x-python",
   "name": "python",
   "nbconvert_exporter": "python",
   "pygments_lexer": "ipython3",
   "version": "3.8.5"
  }
 },
 "nbformat": 4,
 "nbformat_minor": 4
}
